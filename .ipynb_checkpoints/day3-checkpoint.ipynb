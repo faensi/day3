{
 "cells": [
  {
   "cell_type": "markdown",
   "id": "da0cded4-f993-4af1-b1ba-ec3326e9d099",
   "metadata": {},
   "source": [
    "# Welcome to day 3 :)"
   ]
  },
  {
   "cell_type": "code",
   "execution_count": 30,
   "id": "de6e46d9-2ed3-44c8-94da-b47f12d845f8",
   "metadata": {},
   "outputs": [
    {
     "name": "stdout",
     "output_type": "stream",
     "text": [
      "<class 'list'>\n",
      "[1, 2, 3, 'hi']\n",
      "1\n",
      "2\n",
      "3\n",
      "hi\n"
     ]
    }
   ],
   "source": [
    "my_list = [1,2,3,\"hi\"]\n",
    "print(type(my_list))\n",
    "print(my_list)\n",
    "\n",
    "for item in my_list:\n",
    "    print(item)\n",
    "\n",
    "\n",
    "my_dictionary = {\"Anna\": 30, \"Berta\":15}\n",
    "print(type(my_dictionary))\n",
    "print(my_dictionary[\"Berta\"])\n",
    "print(my_dictionary)"
   ]
  },
  {
   "cell_type": "code",
   "execution_count": 34,
   "id": "4864e531-753c-48de-8b24-5d9f65e3217a",
   "metadata": {},
   "outputs": [
    {
     "name": "stdout",
     "output_type": "stream",
     "text": [
      "3\n"
     ]
    }
   ],
   "source": [
    "print(my_list[2])"
   ]
  },
  {
   "cell_type": "code",
   "execution_count": 32,
   "id": "f5f99a13-5e37-498c-86b6-f2703d206463",
   "metadata": {},
   "outputs": [
    {
     "name": "stdout",
     "output_type": "stream",
     "text": [
      "<class 'set'>\n",
      "{0, 1, 2, 3, 8, 's'}\n",
      "0\n",
      "1\n",
      "2\n",
      "3\n",
      "8\n",
      "s\n"
     ]
    }
   ],
   "source": [
    "my_set = {1, 2, 3, \"s\", 0, 8, 1, 1, 1}  # set is unordered and every item is unique\n",
    "print(type(my_set))\n",
    "print(my_set)\n",
    "\n",
    "for item in my_set:\n",
    "    print(item)"
   ]
  },
  {
   "cell_type": "code",
   "execution_count": 36,
   "id": "c367bb36-b9c7-440c-b025-6f2137689b80",
   "metadata": {},
   "outputs": [
    {
     "ename": "TypeError",
     "evalue": "'set' object is not subscriptable",
     "output_type": "error",
     "traceback": [
      "\u001b[1;31m---------------------------------------------------------------------------\u001b[0m",
      "\u001b[1;31mTypeError\u001b[0m                                 Traceback (most recent call last)",
      "Cell \u001b[1;32mIn[36], line 1\u001b[0m\n\u001b[1;32m----> 1\u001b[0m \u001b[38;5;28mprint\u001b[39m(my_set[\u001b[38;5;241m1\u001b[39m])\n",
      "\u001b[1;31mTypeError\u001b[0m: 'set' object is not subscriptable"
     ]
    }
   ],
   "source": [
    "print(my_set[1])"
   ]
  },
  {
   "cell_type": "code",
   "execution_count": 44,
   "id": "99ed362d-429c-477f-be6f-f0007080e668",
   "metadata": {},
   "outputs": [],
   "source": [
    "my_tuple = (1,2,3,\"banana\",3) # similar to list but immutable"
   ]
  },
  {
   "cell_type": "code",
   "execution_count": 40,
   "id": "114cc6c2-2b82-4398-8da8-ab09bef67208",
   "metadata": {},
   "outputs": [
    {
     "name": "stdout",
     "output_type": "stream",
     "text": [
      "banana\n"
     ]
    }
   ],
   "source": [
    "print(my_tuple[3])"
   ]
  },
  {
   "cell_type": "code",
   "execution_count": 46,
   "id": "8073b0bb-e2ef-4391-ace4-836d85311aa1",
   "metadata": {},
   "outputs": [
    {
     "name": "stdout",
     "output_type": "stream",
     "text": [
      "(1, 2, 3, 'banana', 3)\n"
     ]
    }
   ],
   "source": [
    "print(my_tuple)"
   ]
  },
  {
   "cell_type": "code",
   "execution_count": 48,
   "id": "0cd84364-3af4-4283-81b9-e06ff3deace2",
   "metadata": {},
   "outputs": [],
   "source": [
    "a, b, c, d, e = my_tuple"
   ]
  },
  {
   "cell_type": "code",
   "execution_count": 50,
   "id": "7e31a110-e4fd-4e78-9e45-dd04885818a2",
   "metadata": {},
   "outputs": [
    {
     "name": "stdout",
     "output_type": "stream",
     "text": [
      "2\n"
     ]
    }
   ],
   "source": [
    "print(b)"
   ]
  },
  {
   "cell_type": "code",
   "execution_count": null,
   "id": "bf236b60-449a-4cb9-9471-d410911d284e",
   "metadata": {},
   "outputs": [],
   "source": [
    "# Create a dictionary with some example data\n",
    "data = {\n",
    "    'Name': ['Alice', 'Bob', 'Charlie', 'David', 'Eve'],\n",
    "    'Age': [25, 30, 35, 40, 28],\n",
    "    'City': ['New York', 'Paris', 'London', 'Berlin', 'Tokyo'],\n",
    "    'Salary': [50000, 60000, 70000, 80000, 55000]\n",
    "}\n",
    "\n",
    "# Create a DataFrame from the dictionary\n",
    "df = pd.DataFrame(data)\n",
    "\n",
    "# Save the DataFrame to a CSV file\n",
    "df.to_csv('data.csv', index=False)\n",
    "\n",
    "print(\"CSV file 'data.csv' has been created.\")\n"
   ]
  },
  {
   "cell_type": "code",
   "execution_count": 58,
   "id": "c4fdca6a-f800-479d-8618-5c694cab1ab2",
   "metadata": {},
   "outputs": [],
   "source": [
    "import pandas as pd"
   ]
  },
  {
   "cell_type": "code",
   "execution_count": 60,
   "id": "141f7177-ce32-4a29-8254-60da685fc7b5",
   "metadata": {},
   "outputs": [],
   "source": [
    "df = pd.read_csv('data.csv')"
   ]
  },
  {
   "cell_type": "code",
   "execution_count": 66,
   "id": "a8dacd63-0785-46b2-a688-2a19df7e447b",
   "metadata": {},
   "outputs": [
    {
     "name": "stdout",
     "output_type": "stream",
     "text": [
      "      Name  Age      City  Salary\n",
      "0    Alice   25  New York   50000\n",
      "1      Bob   30     Paris   60000\n",
      "2  Charlie   35    London   70000\n",
      "3    David   40    Berlin   80000\n",
      "4      Eve   28     Tokyo   55000\n"
     ]
    }
   ],
   "source": [
    "print(df.head())  # print the first 5 (=default) rows"
   ]
  },
  {
   "cell_type": "code",
   "execution_count": 72,
   "id": "51cef5d8-7d23-478d-ba31-289921815951",
   "metadata": {},
   "outputs": [
    {
     "name": "stdout",
     "output_type": "stream",
     "text": [
      "    Name  Age    City  Salary\n",
      "3  David   40  Berlin   80000\n",
      "4    Eve   28   Tokyo   55000\n"
     ]
    }
   ],
   "source": [
    "print(df.tail(2)) # print the last 2 rows"
   ]
  },
  {
   "cell_type": "code",
   "execution_count": 88,
   "id": "3d9cd90e-5706-44a0-bc07-b2f2ff5a02f6",
   "metadata": {},
   "outputs": [
    {
     "name": "stdout",
     "output_type": "stream",
     "text": [
      "0    25\n",
      "1    30\n",
      "2    35\n",
      "3    40\n",
      "4    28\n",
      "Name: Age, dtype: int64\n"
     ]
    }
   ],
   "source": [
    "# my_dict = {\"Anna\": 30}\n",
    "# print(my_dict[\"Anna\"])\n",
    "\n",
    "print(df[\"Age\"]) # simliarly, that we can use Dictionaries to call on keys and get the values, we can use Dataframes\n",
    "# print(df.Age) # the 'same'"
   ]
  },
  {
   "cell_type": "code",
   "execution_count": 90,
   "id": "aedd5349-14d7-40f2-af3f-72729d727c73",
   "metadata": {},
   "outputs": [
    {
     "name": "stdout",
     "output_type": "stream",
     "text": [
      "      Name  Age    City  Salary\n",
      "2  Charlie   35  London   70000\n",
      "3    David   40  Berlin   80000\n"
     ]
    }
   ],
   "source": [
    "# Filtering\n",
    "print(df[df.Age > 30])"
   ]
  },
  {
   "cell_type": "code",
   "execution_count": 92,
   "id": "cdba5dbe-9ec4-4619-bad3-01c8e64e304f",
   "metadata": {},
   "outputs": [],
   "source": [
    "df['Haircolor'] = ['blonde', 'brown', 'black', 'blonde','brown']"
   ]
  },
  {
   "cell_type": "code",
   "execution_count": 94,
   "id": "1eaafa37-b745-4a96-bcf0-41fdc6df24f3",
   "metadata": {},
   "outputs": [
    {
     "name": "stdout",
     "output_type": "stream",
     "text": [
      "      Name  Age      City  Salary Haircolor\n",
      "0    Alice   25  New York   50000    blonde\n",
      "1      Bob   30     Paris   60000     brown\n",
      "2  Charlie   35    London   70000     black\n",
      "3    David   40    Berlin   80000    blonde\n",
      "4      Eve   28     Tokyo   55000     brown\n"
     ]
    }
   ],
   "source": [
    "print(df)"
   ]
  },
  {
   "cell_type": "code",
   "execution_count": 96,
   "id": "965e7d53-78d3-4c85-851a-2fb242eba822",
   "metadata": {},
   "outputs": [
    {
     "data": {
      "text/html": [
       "<div>\n",
       "<style scoped>\n",
       "    .dataframe tbody tr th:only-of-type {\n",
       "        vertical-align: middle;\n",
       "    }\n",
       "\n",
       "    .dataframe tbody tr th {\n",
       "        vertical-align: top;\n",
       "    }\n",
       "\n",
       "    .dataframe thead th {\n",
       "        text-align: right;\n",
       "    }\n",
       "</style>\n",
       "<table border=\"1\" class=\"dataframe\">\n",
       "  <thead>\n",
       "    <tr style=\"text-align: right;\">\n",
       "      <th></th>\n",
       "      <th>Age</th>\n",
       "      <th>Salary</th>\n",
       "    </tr>\n",
       "  </thead>\n",
       "  <tbody>\n",
       "    <tr>\n",
       "      <th>count</th>\n",
       "      <td>5.00000</td>\n",
       "      <td>5.000000</td>\n",
       "    </tr>\n",
       "    <tr>\n",
       "      <th>mean</th>\n",
       "      <td>31.60000</td>\n",
       "      <td>63000.000000</td>\n",
       "    </tr>\n",
       "    <tr>\n",
       "      <th>std</th>\n",
       "      <td>5.94138</td>\n",
       "      <td>12041.594579</td>\n",
       "    </tr>\n",
       "    <tr>\n",
       "      <th>min</th>\n",
       "      <td>25.00000</td>\n",
       "      <td>50000.000000</td>\n",
       "    </tr>\n",
       "    <tr>\n",
       "      <th>25%</th>\n",
       "      <td>28.00000</td>\n",
       "      <td>55000.000000</td>\n",
       "    </tr>\n",
       "    <tr>\n",
       "      <th>50%</th>\n",
       "      <td>30.00000</td>\n",
       "      <td>60000.000000</td>\n",
       "    </tr>\n",
       "    <tr>\n",
       "      <th>75%</th>\n",
       "      <td>35.00000</td>\n",
       "      <td>70000.000000</td>\n",
       "    </tr>\n",
       "    <tr>\n",
       "      <th>max</th>\n",
       "      <td>40.00000</td>\n",
       "      <td>80000.000000</td>\n",
       "    </tr>\n",
       "  </tbody>\n",
       "</table>\n",
       "</div>"
      ],
      "text/plain": [
       "            Age        Salary\n",
       "count   5.00000      5.000000\n",
       "mean   31.60000  63000.000000\n",
       "std     5.94138  12041.594579\n",
       "min    25.00000  50000.000000\n",
       "25%    28.00000  55000.000000\n",
       "50%    30.00000  60000.000000\n",
       "75%    35.00000  70000.000000\n",
       "max    40.00000  80000.000000"
      ]
     },
     "execution_count": 96,
     "metadata": {},
     "output_type": "execute_result"
    }
   ],
   "source": [
    "df.describe()"
   ]
  },
  {
   "cell_type": "code",
   "execution_count": 124,
   "id": "a9946442-23b3-4f35-981e-d2ba6d157e76",
   "metadata": {},
   "outputs": [],
   "source": [
    "data = {\n",
    "    'Name': ['Alice', 'Bob', 'Charlie', 'David', 'Eve','Fridolin'],\n",
    "    'Car_speed': [100, 120, 35, 80, 200, 250],\n",
    "    'temperature': [30, 31, 33, 30, 39, 41]\n",
    "}\n",
    "\n",
    "df2 = pd.DataFrame(data)"
   ]
  },
  {
   "cell_type": "code",
   "execution_count": 110,
   "id": "cf042e37-528f-4872-b593-c0feaa027cec",
   "metadata": {},
   "outputs": [
    {
     "name": "stdout",
     "output_type": "stream",
     "text": [
      "       Name  Car_speed  temperature\n",
      "0     Alice        100           30\n",
      "1       Bob        120           31\n",
      "2   Charlie         35           33\n",
      "3     David         80           30\n",
      "4       Eve        200           39\n",
      "5  Fridolin        250           41\n"
     ]
    }
   ],
   "source": [
    "print(df2)"
   ]
  },
  {
   "cell_type": "code",
   "execution_count": 122,
   "id": "ada0d16a-0225-4dac-bac8-479856a85b6e",
   "metadata": {},
   "outputs": [],
   "source": [
    "df_merged = df.merge(df2, on='Name', how='right')  # merge on the key \"Name\"\n",
    "# https://pandas.pydata.org/docs/reference/api/pandas.DataFrame.merge.html\n",
    "# https://pandas.pydata.org/docs/user_guide/merging.html"
   ]
  },
  {
   "cell_type": "code",
   "execution_count": 120,
   "id": "1f1f2dba-3cb1-42a9-9419-fd2f15e4bbcc",
   "metadata": {},
   "outputs": [
    {
     "name": "stdout",
     "output_type": "stream",
     "text": [
      "       Name   Age      City   Salary Haircolor  Car_speed  temperature\n",
      "0     Alice  25.0  New York  50000.0    blonde        100           30\n",
      "1       Bob  30.0     Paris  60000.0     brown        120           31\n",
      "2   Charlie  35.0    London  70000.0     black         35           33\n",
      "3     David  40.0    Berlin  80000.0    blonde         80           30\n",
      "4       Eve  28.0     Tokyo  55000.0     brown        200           39\n",
      "5  Fridolin   NaN       NaN      NaN       NaN        250           41\n"
     ]
    }
   ],
   "source": [
    "print(df_merged)\n"
   ]
  },
  {
   "cell_type": "code",
   "execution_count": 133,
   "id": "6f1d5295-e65e-4a2d-9154-32e52f3f25b4",
   "metadata": {},
   "outputs": [
    {
     "name": "stdout",
     "output_type": "stream",
     "text": [
      "Original DataFrame:\n",
      "      Name  Math  Science  English\n",
      "0    Alice    92       85       78\n",
      "1      Bob    56       78       85\n",
      "2  Charlie    88       90       82\n",
      "3    David    70       95       88\n",
      "4     Ella    80       70       90\n",
      "5    Fiona    49       88       90\n",
      "6   George    65        9        9\n",
      "\n",
      "Statistical Summary:\n",
      "            Math    Science    English\n",
      "count   7.000000   7.000000   7.000000\n",
      "mean   71.428571  73.571429  74.571429\n",
      "std    16.102351  29.635886  29.245268\n",
      "min    49.000000   9.000000   9.000000\n",
      "25%    60.500000  74.000000  80.000000\n",
      "50%    70.000000  85.000000  85.000000\n",
      "75%    84.000000  89.000000  89.000000\n",
      "max    92.000000  95.000000  90.000000\n",
      "\n",
      "Highest Scores by Subject:\n",
      "Math: Alice\n",
      "Science: David\n",
      "English: Ella\n",
      "\n",
      "DataFrame with Average Scores:\n",
      "      Name  Math  Science  English  Average\n",
      "0    Alice    92       85       78    85.00\n",
      "1      Bob    56       78       85    73.00\n",
      "2  Charlie    88       90       82    86.67\n",
      "3    David    70       95       88    84.33\n",
      "4     Ella    80       70       90    80.00\n",
      "5    Fiona    49       88       90    75.67\n",
      "6   George    65        9        9    27.67\n",
      "\n",
      "DataFrame with Passing Grades:\n",
      "      Name  Math  Science  English  Average  Passed\n",
      "0    Alice    92       85       78    85.00    True\n",
      "1      Bob    56       78       85    73.00    True\n",
      "2  Charlie    88       90       82    86.67    True\n",
      "3    David    70       95       88    84.33    True\n",
      "4     Ella    80       70       90    80.00    True\n",
      "5    Fiona    49       88       90    75.67    True\n",
      "6   George    65        9        9    27.67   False\n",
      "\n",
      "Sorted DataFrame by Average Score:\n",
      "      Name  Math  Science  English  Average  Passed\n",
      "2  Charlie    88       90       82    86.67    True\n",
      "0    Alice    92       85       78    85.00    True\n",
      "3    David    70       95       88    84.33    True\n",
      "4     Ella    80       70       90    80.00    True\n",
      "5    Fiona    49       88       90    75.67    True\n",
      "1      Bob    56       78       85    73.00    True\n",
      "6   George    65        9        9    27.67   False\n",
      "\n",
      "Best Student for Each Subject:\n",
      "Math: Alice\n",
      "Science: David\n",
      "English: Ella\n",
      "\n",
      "Average Scores for Each Subject:\n",
      "Math: 71.43\n",
      "Science: 73.57\n",
      "English: 74.57\n",
      "\n",
      "Number of Students Who Passed: 6\n"
     ]
    }
   ],
   "source": [
    "import pandas as pd\n",
    "\n",
    "# Step 2: Data Preparation\n",
    "data = {\n",
    "    'Name': ['Alice', 'Bob', 'Charlie', 'David', 'Ella', 'Fiona', 'George'],\n",
    "    'Math': [92, 56, 88, 70, 80, 49, 65],\n",
    "    'Science': [85, 78, 90, 95, 70, 88, 9],\n",
    "    'English': [78, 85, 82, 88, 90, 90, 9]\n",
    "}\n",
    "\n",
    "# Create DataFrame\n",
    "df = pd.DataFrame(data)\n",
    "\n",
    "# Task 1: Display the DataFrame\n",
    "print(\"Original DataFrame:\")\n",
    "print(df)\n",
    "\n",
    "# Task 2: Statistical Summary\n",
    "print(\"\\nStatistical Summary:\")\n",
    "print(df.describe())\n",
    "\n",
    "# Task 3: Highest Score in Each Subject\n",
    "# Using idxmax to find the index of the maximum score and then using the index to find the student's name\n",
    "math_max = df.loc[df['Math'].idxmax(), 'Name']\n",
    "science_max = df.loc[df['Science'].idxmax(), 'Name']\n",
    "english_max = df.loc[df['English'].idxmax(), 'Name']\n",
    "print(\"\\nHighest Scores by Subject:\")\n",
    "print(f\"Math: {math_max}\")\n",
    "print(f\"Science: {science_max}\")\n",
    "print(f\"English: {english_max}\")\n",
    "\n",
    "# Task 4: Average Scores\n",
    "# Calculate the mean across the numerical columns axis=1 for each row\n",
    "df['Average'] = df[['Math', 'Science', 'English']].mean(axis=1).round(2)\n",
    "print(\"\\nDataFrame with Average Scores:\")\n",
    "print(df)\n",
    "\n",
    "# Task 5: Passing Grades\n",
    "# Add a new column 'Passed' that shows True if Average >= 60, otherwise False\n",
    "df['Passed'] = df['Average'] >= 60\n",
    "print(\"\\nDataFrame with Passing Grades:\")\n",
    "print(df)\n",
    "\n",
    "# Task 6: Sorting\n",
    "# Sort the DataFrame by the 'Average' score in descending order\n",
    "df_sorted = df.sort_values(by='Average', ascending=False)\n",
    "print(\"\\nSorted DataFrame by Average Score:\")\n",
    "print(df_sorted)\n",
    "\n",
    "# Step 4: Discussion Questions\n",
    "# Who is the best student for each subject?\n",
    "print(\"\\nBest Student for Each Subject:\")\n",
    "print(f\"Math: {math_max}\")\n",
    "print(f\"Science: {science_max}\")\n",
    "print(f\"English: {english_max}\")\n",
    "\n",
    "# What is the average score in each subject across all students?\n",
    "avg_math = df['Math'].mean()\n",
    "avg_science = df['Science'].mean()\n",
    "avg_english = df['English'].mean()\n",
    "print(\"\\nAverage Scores for Each Subject:\")\n",
    "print(f\"Math: {avg_math:.2f}\") # :.2f says to only print 2 digits after the dot for point values 1.000000\n",
    "print(f\"Science: {avg_science:.2f}\")\n",
    "print(f\"English: {avg_english:.2f}\")\n",
    "\n",
    "# How many students passed based on their average scores?\n",
    "num_passed = df['Passed'].sum()\n",
    "print(f\"\\nNumber of Students Who Passed: {num_passed}\")\n"
   ]
  },
  {
   "cell_type": "code",
   "execution_count": 137,
   "id": "a2d90c6a-572e-4313-903b-e7e1a4740368",
   "metadata": {},
   "outputs": [
    {
     "name": "stdout",
     "output_type": "stream",
     "text": [
      ".\n",
      "\n",
      " hi\n",
      ":\n",
      "hi\n"
     ]
    }
   ],
   "source": [
    "print(\".\")\n",
    "print(\"\\n hi\")\n",
    "\n",
    "print(\":\")\n",
    "print(\"hi\")"
   ]
  },
  {
   "cell_type": "code",
   "execution_count": 141,
   "id": "3dc44771-7e63-46e2-b282-cc669b5d1b70",
   "metadata": {},
   "outputs": [
    {
     "data": {
      "text/plain": [
       "<Axes: xlabel='Name'>"
      ]
     },
     "execution_count": 141,
     "metadata": {},
     "output_type": "execute_result"
    },
    {
     "data": {
      "image/png": "[encoded data removed]",
      "text/plain": [
       "<Figure size 640x480 with 1 Axes>"
      ]
     },
     "metadata": {},
     "output_type": "display_data"
    },
    {
     "data": {
      "image/png": "[encoded data removed]",
      "text/plain": [
       "<Figure size 640x480 with 1 Axes>"
      ]
     },
     "metadata": {},
     "output_type": "display_data"
    }
   ],
   "source": [
    "df.plot.bar()\n",
    "df_for_plotting = df.set_index(\"Name\")\n",
    "df_for_plotting.plot.bar()"
   ]
  },
  {
   "cell_type": "markdown",
   "id": "097dad72-5a27-4b0e-b327-7231ee6c7dad",
   "metadata": {},
   "source": [
    "Sets are mutable (changeable) & unique"
   ]
  },
  {
   "cell_type": "code",
   "execution_count": 143,
   "id": "de16040c-6183-430a-873e-4610c85612df",
   "metadata": {},
   "outputs": [
    {
     "name": "stdout",
     "output_type": "stream",
     "text": [
      "{1, 2, 3}\n"
     ]
    }
   ],
   "source": [
    "my_set = {1,2,3,3}\n",
    "print(my_set)"
   ]
  },
  {
   "cell_type": "code",
   "execution_count": 147,
   "id": "1aeafd58-8439-4a1d-aca8-93522f59b97f",
   "metadata": {},
   "outputs": [
    {
     "name": "stdout",
     "output_type": "stream",
     "text": [
      "{1, 2, 3, 6}\n"
     ]
    }
   ],
   "source": [
    "my_set.add(6)\n",
    "print(my_set)"
   ]
  },
  {
   "cell_type": "code",
   "execution_count": 151,
   "id": "7e3060c1-2c1a-4808-92cf-c7479bc262ac",
   "metadata": {},
   "outputs": [
    {
     "name": "stdout",
     "output_type": "stream",
     "text": [
      "{2, 3, 6}\n"
     ]
    }
   ],
   "source": [
    "my_set.discard(1)\n",
    "print(my_set)"
   ]
  },
  {
   "cell_type": "code",
   "execution_count": 153,
   "id": "09a894c2-6ff2-4aea-a5db-612e3047f854",
   "metadata": {},
   "outputs": [
    {
     "name": "stdout",
     "output_type": "stream",
     "text": [
      "frozenset({1, 2, 3})\n"
     ]
    }
   ],
   "source": [
    "my_frozenset = frozenset([1,2,3,3])\n",
    "print(my_frozenset)"
   ]
  },
  {
   "cell_type": "code",
   "execution_count": 155,
   "id": "c61dc254-8516-4519-a25c-a13d056bf8c8",
   "metadata": {},
   "outputs": [
    {
     "ename": "AttributeError",
     "evalue": "'frozenset' object has no attribute 'add'",
     "output_type": "error",
     "traceback": [
      "\u001b[1;31m---------------------------------------------------------------------------\u001b[0m",
      "\u001b[1;31mAttributeError\u001b[0m                            Traceback (most recent call last)",
      "Cell \u001b[1;32mIn[155], line 1\u001b[0m\n\u001b[1;32m----> 1\u001b[0m my_frozenset\u001b[38;5;241m.\u001b[39madd(\u001b[38;5;241m6\u001b[39m)\n",
      "\u001b[1;31mAttributeError\u001b[0m: 'frozenset' object has no attribute 'add'"
     ]
    }
   ],
   "source": [
    "my_frozenset.add(6) #--> frozensets are immutable (unchangeable)  & unique"
   ]
  },
  {
   "cell_type": "code",
   "execution_count": 157,
   "id": "fda79ba3-48b6-42ff-baba-2b927cea415d",
   "metadata": {},
   "outputs": [
    {
     "name": "stdout",
     "output_type": "stream",
     "text": [
      "<class 'set'>\n",
      "<class 'frozenset'>\n"
     ]
    }
   ],
   "source": [
    "print(type(my_set))\n",
    "print(type(my_frozenset))\n"
   ]
  },
  {
   "cell_type": "markdown",
   "id": "57740206-1a7e-43d0-a2dc-ab141d71d4b6",
   "metadata": {},
   "source": [
    "# Todays Agenda\n",
    "- pandas (working with dataframes) (check)\n",
    "- sets and frozen sets (check)\n",
    "- machine learning\n",
    "- netcdf4 files\n",
    "- github\n",
    "- how to store a plot\n",
    "- differences between python2 and 3\n",
    "- what is the environment (pip and conda)\n",
    "- making our own package"
   ]
  },
  {
   "cell_type": "code",
   "execution_count": null,
   "id": "953ece67-527c-4b02-ba01-5d2f3fcf55fb",
   "metadata": {},
   "outputs": [],
   "source": []
  }
 ],
 "metadata": {
  "kernelspec": {
   "display_name": "Python 3 (ipykernel)",
   "language": "python",
   "name": "python3"
  },
  "language_info": {
   "codemirror_mode": {
    "name": "ipython",
    "version": 3
   },
   "file_extension": ".py",
   "mimetype": "text/x-python",
   "name": "python",
   "nbconvert_exporter": "python",
   "pygments_lexer": "ipython3",
   "version": "3.12.4"
  }
 },
 "nbformat": 4,
 "nbformat_minor": 5
}
